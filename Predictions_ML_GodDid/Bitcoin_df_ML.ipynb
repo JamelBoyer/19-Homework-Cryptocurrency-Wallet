{
 "cells": [
  {
   "cell_type": "code",
   "execution_count": null,
   "metadata": {},
   "outputs": [],
   "source": [
    "#import os\n",
    "#from dotenv import load_dotenv\n",
    "#import requests\n",
    "#from binance import Client"
   ]
  },
  {
   "cell_type": "code",
   "execution_count": null,
   "metadata": {},
   "outputs": [],
   "source": [
    "# Imports of Pandas and related packages\n",
    "#import pandas as pd\n",
    "#import numpy as np\n",
    "#%matplotlib inline"
   ]
  },
  {
   "cell_type": "code",
   "execution_count": null,
   "metadata": {},
   "outputs": [],
   "source": [
    "# Imports of plotting and data visualization libraries\n",
    "#import hvplot.pandas\n",
    "#import matplotlib.pyplot as plt\n",
    "#import pandas_datareader as pdr"
   ]
  },
  {
   "cell_type": "code",
   "execution_count": null,
   "metadata": {},
   "outputs": [],
   "source": [
    "#GET /markets/{market_name}/candles?resolution={resolution}&start_time={2018-09-24T17:15:00+00:00&end_time={2022-09-24T17:15:00+00:00}\n",
    "#{\n",
    "  "
   ]
  },
  {
   "cell_type": "code",
   "execution_count": null,
   "metadata": {},
   "outputs": [],
   "source": [
    "#load_dotenv()\n",
    "#BINANCE_API_KEY=os.getenv('BINANCE_API_KEY')\n",
    "#BINANCE_SECRET_KEY=os.getenv('BINANCE_SECRET_KEY')\n",
    "#client = Client(BINANCE_API_KEY, #BINANCE_SECRET_KEY, tld='us')\n",
    "\n",
    "#BINANCE_API_KEY"
   ]
  },
  {
   "cell_type": "code",
   "execution_count": null,
   "metadata": {},
   "outputs": [],
   "source": [
    "#import pandas as pd\n",
    "#import requests\n",
    "\n",
    "#markets = requests.get('https://ftx.com/api/markets/BTC/USD/candles').json()\n",
    "#df = pd.DataFrame(markets['result'])\n",
    "#df.set_index('name', inplace = True)\n",
    "# df.T\n",
    "#df.T.head(5)"
   ]
  },
  {
   "cell_type": "code",
   "execution_count": 11,
   "metadata": {},
   "outputs": [],
   "source": [
    "import numpy as np\n",
    "import pandas as pd\n",
    "import requests\n",
    "import hvplot.pandas\n",
    "import matplotlib.pyplot as plt\n",
    "import pandas_datareader as pdr"
   ]
  },
  {
   "cell_type": "code",
   "execution_count": 12,
   "metadata": {},
   "outputs": [],
   "source": [
    "file_path = \"FTX_BTCUSD.csv\""
   ]
  },
  {
   "cell_type": "code",
   "execution_count": 14,
   "metadata": {},
   "outputs": [],
   "source": [
    "df = pd.read_csv(file_path)\n",
    "#df.head(5)\n"
   ]
  },
  {
   "cell_type": "code",
   "execution_count": 15,
   "metadata": {},
   "outputs": [],
   "source": [
    "df.index = pd.to_datetime(df.index, format='%Y-%m-%d')\n",
    "df.to_csv('./output2.csv')"
   ]
  },
  {
   "cell_type": "code",
   "execution_count": 16,
   "metadata": {},
   "outputs": [],
   "source": [
    "dataset=pd.read_csv('./output2.csv')"
   ]
  },
  {
   "cell_type": "code",
   "execution_count": 17,
   "metadata": {},
   "outputs": [
    {
     "name": "stdout",
     "output_type": "stream",
     "text": [
      "Data for Modeling: (876, 10)\n",
      "Unseen Data For Predictions: (219, 10)\n"
     ]
    }
   ],
   "source": [
    "data =dataset.sample(frac=0.8)\n",
    "data_unseen = dataset.drop(data.index)\n",
    "\n",
    "data.reset_index(drop=True, inplace=True)\n",
    "data_unseen.reset_index(drop=True, inplace=True) \n",
    "\n",
    "print('Data for Modeling: ' + str(data.shape))\n",
    "print('Unseen Data For Predictions: ' + str(data_unseen.shape))"
   ]
  },
  {
   "cell_type": "code",
   "execution_count": 18,
   "metadata": {},
   "outputs": [
    {
     "data": {
      "text/html": [
       "<style type=\"text/css\">\n",
       "#T_29af1_row8_col1 {\n",
       "  background-color: lightgreen;\n",
       "}\n",
       "</style>\n",
       "<table id=\"T_29af1_\">\n",
       "  <thead>\n",
       "    <tr>\n",
       "      <th class=\"blank level0\" >&nbsp;</th>\n",
       "      <th class=\"col_heading level0 col0\" >Description</th>\n",
       "      <th class=\"col_heading level0 col1\" >Value</th>\n",
       "    </tr>\n",
       "  </thead>\n",
       "  <tbody>\n",
       "    <tr>\n",
       "      <th id=\"T_29af1_level0_row0\" class=\"row_heading level0 row0\" >0</th>\n",
       "      <td id=\"T_29af1_row0_col0\" class=\"data row0 col0\" >Session id</td>\n",
       "      <td id=\"T_29af1_row0_col1\" class=\"data row0 col1\" >6729</td>\n",
       "    </tr>\n",
       "    <tr>\n",
       "      <th id=\"T_29af1_level0_row1\" class=\"row_heading level0 row1\" >1</th>\n",
       "      <td id=\"T_29af1_row1_col0\" class=\"data row1 col0\" >Target</td>\n",
       "      <td id=\"T_29af1_row1_col1\" class=\"data row1 col1\" >close</td>\n",
       "    </tr>\n",
       "    <tr>\n",
       "      <th id=\"T_29af1_level0_row2\" class=\"row_heading level0 row2\" >2</th>\n",
       "      <td id=\"T_29af1_row2_col0\" class=\"data row2 col0\" >Target type</td>\n",
       "      <td id=\"T_29af1_row2_col1\" class=\"data row2 col1\" >Regression</td>\n",
       "    </tr>\n",
       "    <tr>\n",
       "      <th id=\"T_29af1_level0_row3\" class=\"row_heading level0 row3\" >3</th>\n",
       "      <td id=\"T_29af1_row3_col0\" class=\"data row3 col0\" >Data shape</td>\n",
       "      <td id=\"T_29af1_row3_col1\" class=\"data row3 col1\" >(876, 7)</td>\n",
       "    </tr>\n",
       "    <tr>\n",
       "      <th id=\"T_29af1_level0_row4\" class=\"row_heading level0 row4\" >4</th>\n",
       "      <td id=\"T_29af1_row4_col0\" class=\"data row4 col0\" >Train data shape</td>\n",
       "      <td id=\"T_29af1_row4_col1\" class=\"data row4 col1\" >(613, 7)</td>\n",
       "    </tr>\n",
       "    <tr>\n",
       "      <th id=\"T_29af1_level0_row5\" class=\"row_heading level0 row5\" >5</th>\n",
       "      <td id=\"T_29af1_row5_col0\" class=\"data row5 col0\" >Test data shape</td>\n",
       "      <td id=\"T_29af1_row5_col1\" class=\"data row5 col1\" >(263, 7)</td>\n",
       "    </tr>\n",
       "    <tr>\n",
       "      <th id=\"T_29af1_level0_row6\" class=\"row_heading level0 row6\" >6</th>\n",
       "      <td id=\"T_29af1_row6_col0\" class=\"data row6 col0\" >Numeric features</td>\n",
       "      <td id=\"T_29af1_row6_col1\" class=\"data row6 col1\" >6</td>\n",
       "    </tr>\n",
       "    <tr>\n",
       "      <th id=\"T_29af1_level0_row7\" class=\"row_heading level0 row7\" >7</th>\n",
       "      <td id=\"T_29af1_row7_col0\" class=\"data row7 col0\" >Categorical features</td>\n",
       "      <td id=\"T_29af1_row7_col1\" class=\"data row7 col1\" >3</td>\n",
       "    </tr>\n",
       "    <tr>\n",
       "      <th id=\"T_29af1_level0_row8\" class=\"row_heading level0 row8\" >8</th>\n",
       "      <td id=\"T_29af1_row8_col0\" class=\"data row8 col0\" >Preprocess</td>\n",
       "      <td id=\"T_29af1_row8_col1\" class=\"data row8 col1\" >True</td>\n",
       "    </tr>\n",
       "    <tr>\n",
       "      <th id=\"T_29af1_level0_row9\" class=\"row_heading level0 row9\" >9</th>\n",
       "      <td id=\"T_29af1_row9_col0\" class=\"data row9 col0\" >Imputation type</td>\n",
       "      <td id=\"T_29af1_row9_col1\" class=\"data row9 col1\" >simple</td>\n",
       "    </tr>\n",
       "    <tr>\n",
       "      <th id=\"T_29af1_level0_row10\" class=\"row_heading level0 row10\" >10</th>\n",
       "      <td id=\"T_29af1_row10_col0\" class=\"data row10 col0\" >Numeric imputation</td>\n",
       "      <td id=\"T_29af1_row10_col1\" class=\"data row10 col1\" >mean</td>\n",
       "    </tr>\n",
       "    <tr>\n",
       "      <th id=\"T_29af1_level0_row11\" class=\"row_heading level0 row11\" >11</th>\n",
       "      <td id=\"T_29af1_row11_col0\" class=\"data row11 col0\" >Categorical imputation</td>\n",
       "      <td id=\"T_29af1_row11_col1\" class=\"data row11 col1\" >constant</td>\n",
       "    </tr>\n",
       "    <tr>\n",
       "      <th id=\"T_29af1_level0_row12\" class=\"row_heading level0 row12\" >12</th>\n",
       "      <td id=\"T_29af1_row12_col0\" class=\"data row12 col0\" >Maximum one-hot encoding</td>\n",
       "      <td id=\"T_29af1_row12_col1\" class=\"data row12 col1\" >5</td>\n",
       "    </tr>\n",
       "    <tr>\n",
       "      <th id=\"T_29af1_level0_row13\" class=\"row_heading level0 row13\" >13</th>\n",
       "      <td id=\"T_29af1_row13_col0\" class=\"data row13 col0\" >Encoding method</td>\n",
       "      <td id=\"T_29af1_row13_col1\" class=\"data row13 col1\" >None</td>\n",
       "    </tr>\n",
       "    <tr>\n",
       "      <th id=\"T_29af1_level0_row14\" class=\"row_heading level0 row14\" >14</th>\n",
       "      <td id=\"T_29af1_row14_col0\" class=\"data row14 col0\" >Low variance threshold</td>\n",
       "      <td id=\"T_29af1_row14_col1\" class=\"data row14 col1\" >0</td>\n",
       "    </tr>\n",
       "    <tr>\n",
       "      <th id=\"T_29af1_level0_row15\" class=\"row_heading level0 row15\" >15</th>\n",
       "      <td id=\"T_29af1_row15_col0\" class=\"data row15 col0\" >Fold Generator</td>\n",
       "      <td id=\"T_29af1_row15_col1\" class=\"data row15 col1\" >KFold</td>\n",
       "    </tr>\n",
       "    <tr>\n",
       "      <th id=\"T_29af1_level0_row16\" class=\"row_heading level0 row16\" >16</th>\n",
       "      <td id=\"T_29af1_row16_col0\" class=\"data row16 col0\" >Fold Number</td>\n",
       "      <td id=\"T_29af1_row16_col1\" class=\"data row16 col1\" >10</td>\n",
       "    </tr>\n",
       "    <tr>\n",
       "      <th id=\"T_29af1_level0_row17\" class=\"row_heading level0 row17\" >17</th>\n",
       "      <td id=\"T_29af1_row17_col0\" class=\"data row17 col0\" >CPU Jobs</td>\n",
       "      <td id=\"T_29af1_row17_col1\" class=\"data row17 col1\" >-1</td>\n",
       "    </tr>\n",
       "    <tr>\n",
       "      <th id=\"T_29af1_level0_row18\" class=\"row_heading level0 row18\" >18</th>\n",
       "      <td id=\"T_29af1_row18_col0\" class=\"data row18 col0\" >Use GPU</td>\n",
       "      <td id=\"T_29af1_row18_col1\" class=\"data row18 col1\" >False</td>\n",
       "    </tr>\n",
       "    <tr>\n",
       "      <th id=\"T_29af1_level0_row19\" class=\"row_heading level0 row19\" >19</th>\n",
       "      <td id=\"T_29af1_row19_col0\" class=\"data row19 col0\" >Log Experiment</td>\n",
       "      <td id=\"T_29af1_row19_col1\" class=\"data row19 col1\" >False</td>\n",
       "    </tr>\n",
       "    <tr>\n",
       "      <th id=\"T_29af1_level0_row20\" class=\"row_heading level0 row20\" >20</th>\n",
       "      <td id=\"T_29af1_row20_col0\" class=\"data row20 col0\" >Experiment Name</td>\n",
       "      <td id=\"T_29af1_row20_col1\" class=\"data row20 col1\" >reg-default-name</td>\n",
       "    </tr>\n",
       "    <tr>\n",
       "      <th id=\"T_29af1_level0_row21\" class=\"row_heading level0 row21\" >21</th>\n",
       "      <td id=\"T_29af1_row21_col0\" class=\"data row21 col0\" >USI</td>\n",
       "      <td id=\"T_29af1_row21_col1\" class=\"data row21 col1\" >f0da</td>\n",
       "    </tr>\n",
       "  </tbody>\n",
       "</table>\n"
      ],
      "text/plain": [
       "<pandas.io.formats.style.Styler at 0x1b06ba7e788>"
      ]
     },
     "metadata": {},
     "output_type": "display_data"
    }
   ],
   "source": [
    "from pycaret.regression import *\n",
    "exp_reg102 = setup(data, target = 'close')"
   ]
  },
  {
   "cell_type": "code",
   "execution_count": 19,
   "metadata": {},
   "outputs": [
    {
     "data": {
      "text/html": [],
      "text/plain": [
       "<IPython.core.display.HTML object>"
      ]
     },
     "metadata": {},
     "output_type": "display_data"
    },
    {
     "data": {
      "text/html": [
       "<style type=\"text/css\">\n",
       "#T_70d94_ th {\n",
       "  text-align: left;\n",
       "}\n",
       "#T_70d94_row0_col0, #T_70d94_row0_col2, #T_70d94_row0_col3, #T_70d94_row0_col6, #T_70d94_row1_col0, #T_70d94_row1_col1, #T_70d94_row2_col0, #T_70d94_row2_col2, #T_70d94_row2_col3, #T_70d94_row2_col6, #T_70d94_row3_col0, #T_70d94_row3_col1, #T_70d94_row3_col2, #T_70d94_row3_col3, #T_70d94_row3_col4, #T_70d94_row3_col5, #T_70d94_row3_col6, #T_70d94_row4_col0, #T_70d94_row4_col1, #T_70d94_row4_col2, #T_70d94_row4_col3, #T_70d94_row4_col4, #T_70d94_row4_col5, #T_70d94_row4_col6, #T_70d94_row5_col0, #T_70d94_row5_col1, #T_70d94_row5_col2, #T_70d94_row5_col3, #T_70d94_row5_col4, #T_70d94_row5_col5, #T_70d94_row5_col6, #T_70d94_row6_col0, #T_70d94_row6_col1, #T_70d94_row6_col2, #T_70d94_row6_col3, #T_70d94_row6_col4, #T_70d94_row6_col5, #T_70d94_row6_col6, #T_70d94_row7_col0, #T_70d94_row7_col1, #T_70d94_row7_col2, #T_70d94_row7_col3, #T_70d94_row7_col4, #T_70d94_row7_col5, #T_70d94_row7_col6, #T_70d94_row8_col0, #T_70d94_row8_col1, #T_70d94_row8_col2, #T_70d94_row8_col3, #T_70d94_row8_col4, #T_70d94_row8_col5, #T_70d94_row8_col6, #T_70d94_row9_col0, #T_70d94_row9_col1, #T_70d94_row9_col2, #T_70d94_row9_col3, #T_70d94_row9_col4, #T_70d94_row9_col5, #T_70d94_row9_col6, #T_70d94_row10_col0, #T_70d94_row10_col1, #T_70d94_row10_col2, #T_70d94_row10_col3, #T_70d94_row10_col4, #T_70d94_row10_col5, #T_70d94_row10_col6, #T_70d94_row11_col0, #T_70d94_row11_col1, #T_70d94_row11_col2, #T_70d94_row11_col3, #T_70d94_row11_col4, #T_70d94_row11_col5, #T_70d94_row11_col6, #T_70d94_row12_col0, #T_70d94_row12_col1, #T_70d94_row12_col2, #T_70d94_row12_col3, #T_70d94_row12_col4, #T_70d94_row12_col5, #T_70d94_row12_col6, #T_70d94_row13_col0, #T_70d94_row13_col1, #T_70d94_row13_col2, #T_70d94_row13_col3, #T_70d94_row13_col4, #T_70d94_row13_col5, #T_70d94_row13_col6, #T_70d94_row14_col0, #T_70d94_row14_col1, #T_70d94_row14_col2, #T_70d94_row14_col3, #T_70d94_row14_col4, #T_70d94_row14_col5, #T_70d94_row14_col6, #T_70d94_row15_col0, #T_70d94_row15_col1, #T_70d94_row15_col2, #T_70d94_row15_col3, #T_70d94_row15_col4, #T_70d94_row15_col5, #T_70d94_row15_col6, #T_70d94_row16_col0, #T_70d94_row16_col1, #T_70d94_row16_col2, #T_70d94_row16_col3, #T_70d94_row16_col4, #T_70d94_row16_col5, #T_70d94_row16_col6, #T_70d94_row17_col0, #T_70d94_row17_col1, #T_70d94_row17_col2, #T_70d94_row17_col3, #T_70d94_row17_col4, #T_70d94_row17_col5, #T_70d94_row17_col6, #T_70d94_row18_col0, #T_70d94_row18_col1, #T_70d94_row18_col2, #T_70d94_row18_col3, #T_70d94_row18_col4, #T_70d94_row18_col5, #T_70d94_row18_col6 {\n",
       "  text-align: left;\n",
       "}\n",
       "#T_70d94_row0_col1, #T_70d94_row0_col4, #T_70d94_row0_col5, #T_70d94_row1_col2, #T_70d94_row1_col3, #T_70d94_row1_col4, #T_70d94_row1_col5, #T_70d94_row1_col6, #T_70d94_row2_col1, #T_70d94_row2_col4, #T_70d94_row2_col5 {\n",
       "  text-align: left;\n",
       "  background-color: yellow;\n",
       "}\n",
       "#T_70d94_row0_col7, #T_70d94_row1_col7, #T_70d94_row2_col7, #T_70d94_row4_col7, #T_70d94_row5_col7, #T_70d94_row6_col7, #T_70d94_row7_col7, #T_70d94_row8_col7, #T_70d94_row9_col7, #T_70d94_row10_col7, #T_70d94_row11_col7, #T_70d94_row12_col7, #T_70d94_row13_col7, #T_70d94_row14_col7, #T_70d94_row15_col7, #T_70d94_row16_col7, #T_70d94_row17_col7, #T_70d94_row18_col7 {\n",
       "  text-align: left;\n",
       "  background-color: lightgrey;\n",
       "}\n",
       "#T_70d94_row3_col7 {\n",
       "  text-align: left;\n",
       "  background-color: yellow;\n",
       "  background-color: lightgrey;\n",
       "}\n",
       "</style>\n",
       "<table id=\"T_70d94_\">\n",
       "  <thead>\n",
       "    <tr>\n",
       "      <th class=\"blank level0\" >&nbsp;</th>\n",
       "      <th class=\"col_heading level0 col0\" >Model</th>\n",
       "      <th class=\"col_heading level0 col1\" >MAE</th>\n",
       "      <th class=\"col_heading level0 col2\" >MSE</th>\n",
       "      <th class=\"col_heading level0 col3\" >RMSE</th>\n",
       "      <th class=\"col_heading level0 col4\" >R2</th>\n",
       "      <th class=\"col_heading level0 col5\" >RMSLE</th>\n",
       "      <th class=\"col_heading level0 col6\" >MAPE</th>\n",
       "      <th class=\"col_heading level0 col7\" >TT (Sec)</th>\n",
       "    </tr>\n",
       "  </thead>\n",
       "  <tbody>\n",
       "    <tr>\n",
       "      <th id=\"T_70d94_level0_row0\" class=\"row_heading level0 row0\" >lr</th>\n",
       "      <td id=\"T_70d94_row0_col0\" class=\"data row0 col0\" >Linear Regression</td>\n",
       "      <td id=\"T_70d94_row0_col1\" class=\"data row0 col1\" >22.6963</td>\n",
       "      <td id=\"T_70d94_row0_col2\" class=\"data row0 col2\" >1596.8053</td>\n",
       "      <td id=\"T_70d94_row0_col3\" class=\"data row0 col3\" >38.9978</td>\n",
       "      <td id=\"T_70d94_row0_col4\" class=\"data row0 col4\" >0.9991</td>\n",
       "      <td id=\"T_70d94_row0_col5\" class=\"data row0 col5\" >0.0200</td>\n",
       "      <td id=\"T_70d94_row0_col6\" class=\"data row0 col6\" >0.0144</td>\n",
       "      <td id=\"T_70d94_row0_col7\" class=\"data row0 col7\" >0.1190</td>\n",
       "    </tr>\n",
       "    <tr>\n",
       "      <th id=\"T_70d94_level0_row1\" class=\"row_heading level0 row1\" >br</th>\n",
       "      <td id=\"T_70d94_row1_col0\" class=\"data row1 col0\" >Bayesian Ridge</td>\n",
       "      <td id=\"T_70d94_row1_col1\" class=\"data row1 col1\" >22.7123</td>\n",
       "      <td id=\"T_70d94_row1_col2\" class=\"data row1 col2\" >1596.2085</td>\n",
       "      <td id=\"T_70d94_row1_col3\" class=\"data row1 col3\" >38.9967</td>\n",
       "      <td id=\"T_70d94_row1_col4\" class=\"data row1 col4\" >0.9991</td>\n",
       "      <td id=\"T_70d94_row1_col5\" class=\"data row1 col5\" >0.0200</td>\n",
       "      <td id=\"T_70d94_row1_col6\" class=\"data row1 col6\" >0.0143</td>\n",
       "      <td id=\"T_70d94_row1_col7\" class=\"data row1 col7\" >0.0270</td>\n",
       "    </tr>\n",
       "    <tr>\n",
       "      <th id=\"T_70d94_level0_row2\" class=\"row_heading level0 row2\" >ridge</th>\n",
       "      <td id=\"T_70d94_row2_col0\" class=\"data row2 col0\" >Ridge Regression</td>\n",
       "      <td id=\"T_70d94_row2_col1\" class=\"data row2 col1\" >22.6963</td>\n",
       "      <td id=\"T_70d94_row2_col2\" class=\"data row2 col2\" >1596.8051</td>\n",
       "      <td id=\"T_70d94_row2_col3\" class=\"data row2 col3\" >38.9978</td>\n",
       "      <td id=\"T_70d94_row2_col4\" class=\"data row2 col4\" >0.9991</td>\n",
       "      <td id=\"T_70d94_row2_col5\" class=\"data row2 col5\" >0.0200</td>\n",
       "      <td id=\"T_70d94_row2_col6\" class=\"data row2 col6\" >0.0144</td>\n",
       "      <td id=\"T_70d94_row2_col7\" class=\"data row2 col7\" >0.0270</td>\n",
       "    </tr>\n",
       "    <tr>\n",
       "      <th id=\"T_70d94_level0_row3\" class=\"row_heading level0 row3\" >lar</th>\n",
       "      <td id=\"T_70d94_row3_col0\" class=\"data row3 col0\" >Least Angle Regression</td>\n",
       "      <td id=\"T_70d94_row3_col1\" class=\"data row3 col1\" >24.8741</td>\n",
       "      <td id=\"T_70d94_row3_col2\" class=\"data row3 col2\" >1838.4619</td>\n",
       "      <td id=\"T_70d94_row3_col3\" class=\"data row3 col3\" >41.7311</td>\n",
       "      <td id=\"T_70d94_row3_col4\" class=\"data row3 col4\" >0.9990</td>\n",
       "      <td id=\"T_70d94_row3_col5\" class=\"data row3 col5\" >0.0257</td>\n",
       "      <td id=\"T_70d94_row3_col6\" class=\"data row3 col6\" >0.0193</td>\n",
       "      <td id=\"T_70d94_row3_col7\" class=\"data row3 col7\" >0.0260</td>\n",
       "    </tr>\n",
       "    <tr>\n",
       "      <th id=\"T_70d94_level0_row4\" class=\"row_heading level0 row4\" >lasso</th>\n",
       "      <td id=\"T_70d94_row4_col0\" class=\"data row4 col0\" >Lasso Regression</td>\n",
       "      <td id=\"T_70d94_row4_col1\" class=\"data row4 col1\" >25.1771</td>\n",
       "      <td id=\"T_70d94_row4_col2\" class=\"data row4 col2\" >1923.0501</td>\n",
       "      <td id=\"T_70d94_row4_col3\" class=\"data row4 col3\" >42.2334</td>\n",
       "      <td id=\"T_70d94_row4_col4\" class=\"data row4 col4\" >0.9989</td>\n",
       "      <td id=\"T_70d94_row4_col5\" class=\"data row4 col5\" >0.0240</td>\n",
       "      <td id=\"T_70d94_row4_col6\" class=\"data row4 col6\" >0.0182</td>\n",
       "      <td id=\"T_70d94_row4_col7\" class=\"data row4 col7\" >0.0450</td>\n",
       "    </tr>\n",
       "    <tr>\n",
       "      <th id=\"T_70d94_level0_row5\" class=\"row_heading level0 row5\" >en</th>\n",
       "      <td id=\"T_70d94_row5_col0\" class=\"data row5 col0\" >Elastic Net</td>\n",
       "      <td id=\"T_70d94_row5_col1\" class=\"data row5 col1\" >25.1758</td>\n",
       "      <td id=\"T_70d94_row5_col2\" class=\"data row5 col2\" >1922.8457</td>\n",
       "      <td id=\"T_70d94_row5_col3\" class=\"data row5 col3\" >42.2313</td>\n",
       "      <td id=\"T_70d94_row5_col4\" class=\"data row5 col4\" >0.9989</td>\n",
       "      <td id=\"T_70d94_row5_col5\" class=\"data row5 col5\" >0.0240</td>\n",
       "      <td id=\"T_70d94_row5_col6\" class=\"data row5 col6\" >0.0182</td>\n",
       "      <td id=\"T_70d94_row5_col7\" class=\"data row5 col7\" >0.0290</td>\n",
       "    </tr>\n",
       "    <tr>\n",
       "      <th id=\"T_70d94_level0_row6\" class=\"row_heading level0 row6\" >llar</th>\n",
       "      <td id=\"T_70d94_row6_col0\" class=\"data row6 col0\" >Lasso Least Angle Regression</td>\n",
       "      <td id=\"T_70d94_row6_col1\" class=\"data row6 col1\" >41.2882</td>\n",
       "      <td id=\"T_70d94_row6_col2\" class=\"data row6 col2\" >3404.4589</td>\n",
       "      <td id=\"T_70d94_row6_col3\" class=\"data row6 col3\" >57.4587</td>\n",
       "      <td id=\"T_70d94_row6_col4\" class=\"data row6 col4\" >0.9982</td>\n",
       "      <td id=\"T_70d94_row6_col5\" class=\"data row6 col5\" >0.0771</td>\n",
       "      <td id=\"T_70d94_row6_col6\" class=\"data row6 col6\" >0.0595</td>\n",
       "      <td id=\"T_70d94_row6_col7\" class=\"data row6 col7\" >0.0290</td>\n",
       "    </tr>\n",
       "    <tr>\n",
       "      <th id=\"T_70d94_level0_row7\" class=\"row_heading level0 row7\" >et</th>\n",
       "      <td id=\"T_70d94_row7_col0\" class=\"data row7 col0\" >Extra Trees Regressor</td>\n",
       "      <td id=\"T_70d94_row7_col1\" class=\"data row7 col1\" >34.3925</td>\n",
       "      <td id=\"T_70d94_row7_col2\" class=\"data row7 col2\" >3527.7507</td>\n",
       "      <td id=\"T_70d94_row7_col3\" class=\"data row7 col3\" >57.8248</td>\n",
       "      <td id=\"T_70d94_row7_col4\" class=\"data row7 col4\" >0.9981</td>\n",
       "      <td id=\"T_70d94_row7_col5\" class=\"data row7 col5\" >0.0291</td>\n",
       "      <td id=\"T_70d94_row7_col6\" class=\"data row7 col6\" >0.0216</td>\n",
       "      <td id=\"T_70d94_row7_col7\" class=\"data row7 col7\" >0.0710</td>\n",
       "    </tr>\n",
       "    <tr>\n",
       "      <th id=\"T_70d94_level0_row8\" class=\"row_heading level0 row8\" >gbr</th>\n",
       "      <td id=\"T_70d94_row8_col0\" class=\"data row8 col0\" >Gradient Boosting Regressor</td>\n",
       "      <td id=\"T_70d94_row8_col1\" class=\"data row8 col1\" >37.0049</td>\n",
       "      <td id=\"T_70d94_row8_col2\" class=\"data row8 col2\" >3958.5812</td>\n",
       "      <td id=\"T_70d94_row8_col3\" class=\"data row8 col3\" >61.3090</td>\n",
       "      <td id=\"T_70d94_row8_col4\" class=\"data row8 col4\" >0.9978</td>\n",
       "      <td id=\"T_70d94_row8_col5\" class=\"data row8 col5\" >0.0338</td>\n",
       "      <td id=\"T_70d94_row8_col6\" class=\"data row8 col6\" >0.0249</td>\n",
       "      <td id=\"T_70d94_row8_col7\" class=\"data row8 col7\" >0.0470</td>\n",
       "    </tr>\n",
       "    <tr>\n",
       "      <th id=\"T_70d94_level0_row9\" class=\"row_heading level0 row9\" >rf</th>\n",
       "      <td id=\"T_70d94_row9_col0\" class=\"data row9 col0\" >Random Forest Regressor</td>\n",
       "      <td id=\"T_70d94_row9_col1\" class=\"data row9 col1\" >36.7231</td>\n",
       "      <td id=\"T_70d94_row9_col2\" class=\"data row9 col2\" >4061.4375</td>\n",
       "      <td id=\"T_70d94_row9_col3\" class=\"data row9 col3\" >61.8467</td>\n",
       "      <td id=\"T_70d94_row9_col4\" class=\"data row9 col4\" >0.9978</td>\n",
       "      <td id=\"T_70d94_row9_col5\" class=\"data row9 col5\" >0.0307</td>\n",
       "      <td id=\"T_70d94_row9_col6\" class=\"data row9 col6\" >0.0228</td>\n",
       "      <td id=\"T_70d94_row9_col7\" class=\"data row9 col7\" >0.0930</td>\n",
       "    </tr>\n",
       "    <tr>\n",
       "      <th id=\"T_70d94_level0_row10\" class=\"row_heading level0 row10\" >lightgbm</th>\n",
       "      <td id=\"T_70d94_row10_col0\" class=\"data row10 col0\" >Light Gradient Boosting Machine</td>\n",
       "      <td id=\"T_70d94_row10_col1\" class=\"data row10 col1\" >39.7926</td>\n",
       "      <td id=\"T_70d94_row10_col2\" class=\"data row10 col2\" >4569.3841</td>\n",
       "      <td id=\"T_70d94_row10_col3\" class=\"data row10 col3\" >65.9515</td>\n",
       "      <td id=\"T_70d94_row10_col4\" class=\"data row10 col4\" >0.9975</td>\n",
       "      <td id=\"T_70d94_row10_col5\" class=\"data row10 col5\" >0.0349</td>\n",
       "      <td id=\"T_70d94_row10_col6\" class=\"data row10 col6\" >0.0252</td>\n",
       "      <td id=\"T_70d94_row10_col7\" class=\"data row10 col7\" >0.0340</td>\n",
       "    </tr>\n",
       "    <tr>\n",
       "      <th id=\"T_70d94_level0_row11\" class=\"row_heading level0 row11\" >xgboost</th>\n",
       "      <td id=\"T_70d94_row11_col0\" class=\"data row11 col0\" >Extreme Gradient Boosting</td>\n",
       "      <td id=\"T_70d94_row11_col1\" class=\"data row11 col1\" >41.6125</td>\n",
       "      <td id=\"T_70d94_row11_col2\" class=\"data row11 col2\" >5409.6066</td>\n",
       "      <td id=\"T_70d94_row11_col3\" class=\"data row11 col3\" >70.2641</td>\n",
       "      <td id=\"T_70d94_row11_col4\" class=\"data row11 col4\" >0.9971</td>\n",
       "      <td id=\"T_70d94_row11_col5\" class=\"data row11 col5\" >0.0359</td>\n",
       "      <td id=\"T_70d94_row11_col6\" class=\"data row11 col6\" >0.0265</td>\n",
       "      <td id=\"T_70d94_row11_col7\" class=\"data row11 col7\" >0.0460</td>\n",
       "    </tr>\n",
       "    <tr>\n",
       "      <th id=\"T_70d94_level0_row12\" class=\"row_heading level0 row12\" >omp</th>\n",
       "      <td id=\"T_70d94_row12_col0\" class=\"data row12 col0\" >Orthogonal Matching Pursuit</td>\n",
       "      <td id=\"T_70d94_row12_col1\" class=\"data row12 col1\" >43.8652</td>\n",
       "      <td id=\"T_70d94_row12_col2\" class=\"data row12 col2\" >6473.7712</td>\n",
       "      <td id=\"T_70d94_row12_col3\" class=\"data row12 col3\" >76.8619</td>\n",
       "      <td id=\"T_70d94_row12_col4\" class=\"data row12 col4\" >0.9964</td>\n",
       "      <td id=\"T_70d94_row12_col5\" class=\"data row12 col5\" >0.0463</td>\n",
       "      <td id=\"T_70d94_row12_col6\" class=\"data row12 col6\" >0.0360</td>\n",
       "      <td id=\"T_70d94_row12_col7\" class=\"data row12 col7\" >0.0280</td>\n",
       "    </tr>\n",
       "    <tr>\n",
       "      <th id=\"T_70d94_level0_row13\" class=\"row_heading level0 row13\" >dt</th>\n",
       "      <td id=\"T_70d94_row13_col0\" class=\"data row13 col0\" >Decision Tree Regressor</td>\n",
       "      <td id=\"T_70d94_row13_col1\" class=\"data row13 col1\" >50.3947</td>\n",
       "      <td id=\"T_70d94_row13_col2\" class=\"data row13 col2\" >8358.3051</td>\n",
       "      <td id=\"T_70d94_row13_col3\" class=\"data row13 col3\" >87.1535</td>\n",
       "      <td id=\"T_70d94_row13_col4\" class=\"data row13 col4\" >0.9954</td>\n",
       "      <td id=\"T_70d94_row13_col5\" class=\"data row13 col5\" >0.0441</td>\n",
       "      <td id=\"T_70d94_row13_col6\" class=\"data row13 col6\" >0.0313</td>\n",
       "      <td id=\"T_70d94_row13_col7\" class=\"data row13 col7\" >0.0290</td>\n",
       "    </tr>\n",
       "    <tr>\n",
       "      <th id=\"T_70d94_level0_row14\" class=\"row_heading level0 row14\" >ada</th>\n",
       "      <td id=\"T_70d94_row14_col0\" class=\"data row14 col0\" >AdaBoost Regressor</td>\n",
       "      <td id=\"T_70d94_row14_col1\" class=\"data row14 col1\" >73.2871</td>\n",
       "      <td id=\"T_70d94_row14_col2\" class=\"data row14 col2\" >8939.5024</td>\n",
       "      <td id=\"T_70d94_row14_col3\" class=\"data row14 col3\" >93.7388</td>\n",
       "      <td id=\"T_70d94_row14_col4\" class=\"data row14 col4\" >0.9951</td>\n",
       "      <td id=\"T_70d94_row14_col5\" class=\"data row14 col5\" >0.2131</td>\n",
       "      <td id=\"T_70d94_row14_col6\" class=\"data row14 col6\" >0.1558</td>\n",
       "      <td id=\"T_70d94_row14_col7\" class=\"data row14 col7\" >0.0430</td>\n",
       "    </tr>\n",
       "    <tr>\n",
       "      <th id=\"T_70d94_level0_row15\" class=\"row_heading level0 row15\" >knn</th>\n",
       "      <td id=\"T_70d94_row15_col0\" class=\"data row15 col0\" >K Neighbors Regressor</td>\n",
       "      <td id=\"T_70d94_row15_col1\" class=\"data row15 col1\" >68.4107</td>\n",
       "      <td id=\"T_70d94_row15_col2\" class=\"data row15 col2\" >13685.3789</td>\n",
       "      <td id=\"T_70d94_row15_col3\" class=\"data row15 col3\" >113.6100</td>\n",
       "      <td id=\"T_70d94_row15_col4\" class=\"data row15 col4\" >0.9925</td>\n",
       "      <td id=\"T_70d94_row15_col5\" class=\"data row15 col5\" >0.0581</td>\n",
       "      <td id=\"T_70d94_row15_col6\" class=\"data row15 col6\" >0.0435</td>\n",
       "      <td id=\"T_70d94_row15_col7\" class=\"data row15 col7\" >0.0460</td>\n",
       "    </tr>\n",
       "    <tr>\n",
       "      <th id=\"T_70d94_level0_row16\" class=\"row_heading level0 row16\" >huber</th>\n",
       "      <td id=\"T_70d94_row16_col0\" class=\"data row16 col0\" >Huber Regressor</td>\n",
       "      <td id=\"T_70d94_row16_col1\" class=\"data row16 col1\" >697.3378</td>\n",
       "      <td id=\"T_70d94_row16_col2\" class=\"data row16 col2\" >1314835.8743</td>\n",
       "      <td id=\"T_70d94_row16_col3\" class=\"data row16 col3\" >1115.4323</td>\n",
       "      <td id=\"T_70d94_row16_col4\" class=\"data row16 col4\" >0.2727</td>\n",
       "      <td id=\"T_70d94_row16_col5\" class=\"data row16 col5\" >0.5474</td>\n",
       "      <td id=\"T_70d94_row16_col6\" class=\"data row16 col6\" >0.5055</td>\n",
       "      <td id=\"T_70d94_row16_col7\" class=\"data row16 col7\" >0.0290</td>\n",
       "    </tr>\n",
       "    <tr>\n",
       "      <th id=\"T_70d94_level0_row17\" class=\"row_heading level0 row17\" >dummy</th>\n",
       "      <td id=\"T_70d94_row17_col0\" class=\"data row17 col0\" >Dummy Regressor</td>\n",
       "      <td id=\"T_70d94_row17_col1\" class=\"data row17 col1\" >1198.5809</td>\n",
       "      <td id=\"T_70d94_row17_col2\" class=\"data row17 col2\" >1904952.6500</td>\n",
       "      <td id=\"T_70d94_row17_col3\" class=\"data row17 col3\" >1377.7115</td>\n",
       "      <td id=\"T_70d94_row17_col4\" class=\"data row17 col4\" >-0.0287</td>\n",
       "      <td id=\"T_70d94_row17_col5\" class=\"data row17 col5\" >1.3339</td>\n",
       "      <td id=\"T_70d94_row17_col6\" class=\"data row17 col6\" >2.8453</td>\n",
       "      <td id=\"T_70d94_row17_col7\" class=\"data row17 col7\" >0.0290</td>\n",
       "    </tr>\n",
       "    <tr>\n",
       "      <th id=\"T_70d94_level0_row18\" class=\"row_heading level0 row18\" >par</th>\n",
       "      <td id=\"T_70d94_row18_col0\" class=\"data row18 col0\" >Passive Aggressive Regressor</td>\n",
       "      <td id=\"T_70d94_row18_col1\" class=\"data row18 col1\" >1681.5778</td>\n",
       "      <td id=\"T_70d94_row18_col2\" class=\"data row18 col2\" >3956598.5151</td>\n",
       "      <td id=\"T_70d94_row18_col3\" class=\"data row18 col3\" >1905.5472</td>\n",
       "      <td id=\"T_70d94_row18_col4\" class=\"data row18 col4\" >-1.1161</td>\n",
       "      <td id=\"T_70d94_row18_col5\" class=\"data row18 col5\" >1.6510</td>\n",
       "      <td id=\"T_70d94_row18_col6\" class=\"data row18 col6\" >5.3515</td>\n",
       "      <td id=\"T_70d94_row18_col7\" class=\"data row18 col7\" >0.0280</td>\n",
       "    </tr>\n",
       "  </tbody>\n",
       "</table>\n"
      ],
      "text/plain": [
       "<pandas.io.formats.style.Styler at 0x1b06ce22d88>"
      ]
     },
     "metadata": {},
     "output_type": "display_data"
    },
    {
     "data": {
      "application/vnd.jupyter.widget-view+json": {
       "model_id": "8f91e3bd4a9e4f70b7cb110bb9bc9eda",
       "version_major": 2,
       "version_minor": 0
      },
      "text/plain": [
       "Processing:   0%|          | 0/81 [00:00<?, ?it/s]"
      ]
     },
     "metadata": {},
     "output_type": "display_data"
    }
   ],
   "source": [
    "best =compare_models()"
   ]
  },
  {
   "cell_type": "code",
   "execution_count": 20,
   "metadata": {},
   "outputs": [
    {
     "data": {
      "application/vnd.jupyter.widget-view+json": {
       "model_id": "87023adf501b45d3acaa4556768ed6bc",
       "version_major": 2,
       "version_minor": 0
      },
      "text/plain": [
       "interactive(children=(ToggleButtons(description='Plot Type:', icons=('',), options=(('Pipeline Plot', 'pipelin…"
      ]
     },
     "metadata": {},
     "output_type": "display_data"
    }
   ],
   "source": [
    "evaluate_model(best)"
   ]
  },
  {
   "cell_type": "code",
   "execution_count": null,
   "metadata": {},
   "outputs": [],
   "source": [
    "lr = create_model('lr')"
   ]
  },
  {
   "cell_type": "code",
   "execution_count": null,
   "metadata": {},
   "outputs": [],
   "source": [
    "plot_model(best, plot = 'vc', use_train_data = True)"
   ]
  },
  {
   "cell_type": "code",
   "execution_count": null,
   "metadata": {},
   "outputs": [],
   "source": [
    "# plot model\n",
    "plot_model(best, plot = 'error', use_train_data = True)"
   ]
  },
  {
   "cell_type": "code",
   "execution_count": null,
   "metadata": {},
   "outputs": [],
   "source": [
    "plot_model(best, plot = 'residuals', use_train_data = True)"
   ]
  },
  {
   "cell_type": "code",
   "execution_count": null,
   "metadata": {},
   "outputs": [],
   "source": [
    "best = create_model(best)"
   ]
  },
  {
   "cell_type": "code",
   "execution_count": null,
   "metadata": {},
   "outputs": [],
   "source": [
    "# calibrate model\n",
    "interpret_model(best, save = True)\n",
    "\n",
    "interpret_model(best)"
   ]
  },
  {
   "cell_type": "code",
   "execution_count": null,
   "metadata": {},
   "outputs": [],
   "source": [
    "predict_model(best)"
   ]
  },
  {
   "cell_type": "code",
   "execution_count": null,
   "metadata": {},
   "outputs": [],
   "source": [
    "bitcoin_ML_Model = predict_model(best)"
   ]
  },
  {
   "cell_type": "code",
   "execution_count": null,
   "metadata": {},
   "outputs": [],
   "source": [
    "bitcoin_ML_Model.tail(5)"
   ]
  },
  {
   "cell_type": "code",
   "execution_count": null,
   "metadata": {},
   "outputs": [],
   "source": [
    "save_model(best, 'bitcoin_ML_Model')"
   ]
  }
 ],
 "metadata": {
  "kernelspec": {
   "display_name": "Python 3.7.11 ('dev')",
   "language": "python",
   "name": "python3"
  },
  "language_info": {
   "codemirror_mode": {
    "name": "ipython",
    "version": 3
   },
   "file_extension": ".py",
   "mimetype": "text/x-python",
   "name": "python",
   "nbconvert_exporter": "python",
   "pygments_lexer": "ipython3",
   "version": "3.7.11"
  },
  "orig_nbformat": 4,
  "vscode": {
   "interpreter": {
    "hash": "88faf968d59841e7ef8a87304018a28eabc64e8d2716b3df8adebfd562b96072"
   }
  }
 },
 "nbformat": 4,
 "nbformat_minor": 2
}
